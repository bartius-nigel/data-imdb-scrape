{
 "cells": [
  {
   "cell_type": "markdown",
   "metadata": {},
   "source": [
    "# Movie Data Scraping"
   ]
  },
  {
   "cell_type": "markdown",
   "metadata": {},
   "source": [
    "## Part 1. Scraping from IMDB"
   ]
  },
  {
   "cell_type": "code",
   "execution_count": 2,
   "metadata": {},
   "outputs": [],
   "source": [
    "from bs4 import BeautifulSoup\n",
    "import numpy as np\n",
    "import pandas as pd\n",
    "import requests\n",
    "from dateutil.parser import parse"
   ]
  },
  {
   "cell_type": "code",
   "execution_count": 3,
   "metadata": {},
   "outputs": [],
   "source": [
    "def crawl()->list:\n",
    "    base_url = 'https://www.imdb.com/'\n",
    "    html = requests.get(\"https://www.imdb.com/chart/moviemeter?sort=rk,asc&mode=simple&page=1\").text\n",
    "    soup = BeautifulSoup(html, 'lxml')\n",
    "    movie_table = soup.tbody\n",
    "    return [base_url + movie_row.td.a['href'] for movie_row in movie_table.findAll('tr')]\n",
    "    \n",
    "movie_links = crawl()"
   ]
  },
  {
   "cell_type": "code",
   "execution_count": 4,
   "metadata": {},
   "outputs": [],
   "source": [
    "ratings = [\"PG-13\", \"R\", \"PG\", \"G\"]\n",
    "genres = ['Action', 'Adventure', 'Sci-Fi', 'Family', 'Drama', 'Romance', 'War', 'Thriller', 'Crime', 'Mystery', 'Comedy']\n",
    "\n",
    "def prep_df()->pd.DataFrame:\n",
    "    return pd.DataFrame(columns=['title', 'rating', 'genre', 'release_date', 'ranking',\n",
    "                         'director', 'cast', 'budget', 'runtime', 'cum_worldwide_gross'])\n",
    "\n",
    "def is_date(string):\n",
    "    try: \n",
    "        parse(string)\n",
    "        return True\n",
    "    except ValueError:\n",
    "        return False\n",
    "\n",
    "def parse_dollars(x:str)->str:\n",
    "    return ''.join(x.split('$')[1].split(' ')[0].strip().split(','))\n",
    "    \n",
    "def populate_df()->pd.DataFrame:\n",
    "    df = prep_df()\n",
    "    for link in movie_links:\n",
    "        html = requests.get(link).text\n",
    "        soup = BeautifulSoup(html, 'lxml')\n",
    "        title=rating=genre=release_date=ranking=director=cast=budget=runtime=cum_worldwide_gross=np.nan\n",
    "        main_top = soup.find('div', {'id': 'main_top'})\n",
    "        main_bottom = soup.find('div', {'id': 'main_bottom'})\n",
    "        title = main_top.h1.text.split('(')[0]\n",
    "        info_bar = main_top.find('div', {'class': 'subtext'}).text.split('|')\n",
    "        for element in info_bar:\n",
    "            if element.strip() in [\"PG-13\", 'R', \"PG\", 'G']:\n",
    "                rating = element.strip()\n",
    "            elif element.strip().split(',')[0] in genres: \n",
    "                genre = ';'.join(element.strip().split(','))\n",
    "            elif is_date(element.strip().split('(')[0].strip()):\n",
    "                release_date = element.strip().split('(')[0].strip()\n",
    "            else:\n",
    "                continue\n",
    "        ranking_wrapper = main_top.find('div', {'class': 'ratings_wrapper'})\n",
    "        ranking = ranking_wrapper.find('span', {'itemprop': 'ratingValue'}).text if ranking_wrapper != None else np.nan\n",
    "        for item in main_top.findAll('div', {'class': 'credit_summary_item'}):\n",
    "            if item.h4.text == 'Director:':\n",
    "                director = item.a.text\n",
    "        cast_members = list()\n",
    "        for cast_mem in main_bottom.findAll('tr', {'class': ['odd', 'even']}):\n",
    "            cast_members.append(cast_mem.find('td', {'class': False}).a.text.strip())\n",
    "        cast = ';'.join(cast_members)\n",
    "        for x in main_bottom.find('div', {'id':'titleDetails'}).findAll('div', {'class':'txt-block'}):\n",
    "            try:\n",
    "                if x.h4.text == 'Budget:':\n",
    "                    budget = parse_dollars(x.text)\n",
    "                elif 'Cumulative' in x.h4.text:\n",
    "                    cum_worldwide_gross = parse_dollars(x.text)\n",
    "                elif 'Runtime' in x.h4.text:\n",
    "                    runtime = x.text.split()[1].strip()\n",
    "            except:\n",
    "                pass\n",
    "        newRow = pd.Series({'title': title, 'rating': rating, 'genre': genre, 'release_date': release_date, 'ranking': ranking, \n",
    "                   'director': director, 'cast': cast, 'budget': budget, 'runtime': runtime, \n",
    "                   'cum_worldwide_gross': cum_worldwide_gross})\n",
    "        df = df.append(newRow, ignore_index=True)\n",
    "    return df\n",
    "\n",
    "df = populate_df()"
   ]
  },
  {
   "cell_type": "code",
   "execution_count": 7,
   "metadata": {},
   "outputs": [],
   "source": [
    "df.to_csv(path_or_buf='./movies.csv')"
   ]
  },
  {
   "cell_type": "markdown",
   "metadata": {},
   "source": [
    "## Part 2. Data Visualization"
   ]
  },
  {
   "cell_type": "code",
   "execution_count": 22,
   "metadata": {},
   "outputs": [],
   "source": [
    "import matplotlib.pyplot as plt\n",
    "%matplotlib inline"
   ]
  },
  {
   "cell_type": "code",
   "execution_count": 17,
   "metadata": {},
   "outputs": [
    {
     "data": {
      "text/html": [
       "<div>\n",
       "<style scoped>\n",
       "    .dataframe tbody tr th:only-of-type {\n",
       "        vertical-align: middle;\n",
       "    }\n",
       "\n",
       "    .dataframe tbody tr th {\n",
       "        vertical-align: top;\n",
       "    }\n",
       "\n",
       "    .dataframe thead th {\n",
       "        text-align: right;\n",
       "    }\n",
       "</style>\n",
       "<table border=\"1\" class=\"dataframe\">\n",
       "  <thead>\n",
       "    <tr style=\"text-align: right;\">\n",
       "      <th></th>\n",
       "      <th>title</th>\n",
       "      <th>rating</th>\n",
       "      <th>genre</th>\n",
       "      <th>release_date</th>\n",
       "      <th>ranking</th>\n",
       "      <th>director</th>\n",
       "      <th>cast</th>\n",
       "      <th>budget</th>\n",
       "      <th>runtime</th>\n",
       "      <th>cum_worldwide_gross</th>\n",
       "    </tr>\n",
       "  </thead>\n",
       "  <tbody>\n",
       "    <tr>\n",
       "      <th>0</th>\n",
       "      <td>Aquaman</td>\n",
       "      <td>PG</td>\n",
       "      <td>Action; \\nAdventure; \\nFantasy</td>\n",
       "      <td>21 December 2018</td>\n",
       "      <td>7.6</td>\n",
       "      <td>James Wan</td>\n",
       "      <td>Jason Momoa;Amber Heard;Willem Dafoe;Patrick W...</td>\n",
       "      <td>160000000.0</td>\n",
       "      <td>143.0</td>\n",
       "      <td>556815000.0</td>\n",
       "    </tr>\n",
       "    <tr>\n",
       "      <th>1</th>\n",
       "      <td>Spider-Man: Into the Spider-Verse</td>\n",
       "      <td>PG</td>\n",
       "      <td>NaN</td>\n",
       "      <td>14 December 2018</td>\n",
       "      <td>8.7</td>\n",
       "      <td>NaN</td>\n",
       "      <td>Shameik Moore;Jake Johnson;Hailee Steinfeld;Ma...</td>\n",
       "      <td>90000000.0</td>\n",
       "      <td>117.0</td>\n",
       "      <td>143949916.0</td>\n",
       "    </tr>\n",
       "    <tr>\n",
       "      <th>2</th>\n",
       "      <td>Bumblebee</td>\n",
       "      <td>PG</td>\n",
       "      <td>Action; \\nAdventure; \\nSci-Fi</td>\n",
       "      <td>21 December 2018</td>\n",
       "      <td>7.3</td>\n",
       "      <td>Travis Knight</td>\n",
       "      <td>Hailee Steinfeld;Jorge Lendeborg Jr.;John Cena...</td>\n",
       "      <td>135000000.0</td>\n",
       "      <td>114.0</td>\n",
       "      <td>71624958.0</td>\n",
       "    </tr>\n",
       "    <tr>\n",
       "      <th>3</th>\n",
       "      <td>Bird Box</td>\n",
       "      <td>NaN</td>\n",
       "      <td>Drama; \\nHorror; \\nSci-Fi</td>\n",
       "      <td>21 December 2018</td>\n",
       "      <td>6.8</td>\n",
       "      <td>Susanne Bier</td>\n",
       "      <td>Sandra Bullock;Trevante Rhodes;John Malkovich;...</td>\n",
       "      <td>NaN</td>\n",
       "      <td>124.0</td>\n",
       "      <td>NaN</td>\n",
       "    </tr>\n",
       "    <tr>\n",
       "      <th>4</th>\n",
       "      <td>Mary Poppins Returns</td>\n",
       "      <td>G</td>\n",
       "      <td>Comedy; \\nFamily; \\nFantasy</td>\n",
       "      <td>19 December 2018</td>\n",
       "      <td>7.3</td>\n",
       "      <td>Rob Marshall</td>\n",
       "      <td>Emily Blunt;Lin-Manuel Miranda;Ben Whishaw;Emi...</td>\n",
       "      <td>130000000.0</td>\n",
       "      <td>130.0</td>\n",
       "      <td>82940923.0</td>\n",
       "    </tr>\n",
       "  </tbody>\n",
       "</table>\n",
       "</div>"
      ],
      "text/plain": [
       "                                title rating                           genre  \\\n",
       "0                            Aquaman      PG  Action; \\nAdventure; \\nFantasy   \n",
       "1  Spider-Man: Into the Spider-Verse      PG                             NaN   \n",
       "2                          Bumblebee      PG   Action; \\nAdventure; \\nSci-Fi   \n",
       "3                           Bird Box     NaN       Drama; \\nHorror; \\nSci-Fi   \n",
       "4               Mary Poppins Returns       G     Comedy; \\nFamily; \\nFantasy   \n",
       "\n",
       "       release_date  ranking       director  \\\n",
       "0  21 December 2018      7.6      James Wan   \n",
       "1  14 December 2018      8.7            NaN   \n",
       "2  21 December 2018      7.3  Travis Knight   \n",
       "3  21 December 2018      6.8   Susanne Bier   \n",
       "4  19 December 2018      7.3   Rob Marshall   \n",
       "\n",
       "                                                cast       budget  runtime  \\\n",
       "0  Jason Momoa;Amber Heard;Willem Dafoe;Patrick W...  160000000.0    143.0   \n",
       "1  Shameik Moore;Jake Johnson;Hailee Steinfeld;Ma...   90000000.0    117.0   \n",
       "2  Hailee Steinfeld;Jorge Lendeborg Jr.;John Cena...  135000000.0    114.0   \n",
       "3  Sandra Bullock;Trevante Rhodes;John Malkovich;...          NaN    124.0   \n",
       "4  Emily Blunt;Lin-Manuel Miranda;Ben Whishaw;Emi...  130000000.0    130.0   \n",
       "\n",
       "   cum_worldwide_gross  \n",
       "0          556815000.0  \n",
       "1          143949916.0  \n",
       "2           71624958.0  \n",
       "3                  NaN  \n",
       "4           82940923.0  "
      ]
     },
     "execution_count": 17,
     "metadata": {},
     "output_type": "execute_result"
    }
   ],
   "source": [
    "movies = pd.read_csv('movies.csv')\n",
    "movies = movies[movies.columns[1:]]\n",
    "movies.head()"
   ]
  },
  {
   "cell_type": "code",
   "execution_count": 69,
   "metadata": {},
   "outputs": [
    {
     "data": {
      "image/png": "[encoded data removed]",
      "text/plain": [
       "<Figure size 432x288 with 1 Axes>"
      ]
     },
     "metadata": {},
     "output_type": "display_data"
    }
   ],
   "source": [
    "ratings = movies.groupby('rating').count()['title']\n",
    "plt.pie(ratings, autopct='%1.1f%%', labels=ratings.index.values)\n",
    "plt.show()"
   ]
  },
  {
   "cell_type": "code",
   "execution_count": 72,
   "metadata": {},
   "outputs": [
    {
     "data": {
      "image/png": "[encoded data removed]",
      "text/plain": [
       "<Figure size 432x288 with 1 Axes>"
      ]
     },
     "metadata": {},
     "output_type": "display_data"
    }
   ],
   "source": [
    "rankings = movies.groupby('ranking').count()['title'].reset_index()\n",
    "plt.hist(rankings['ranking'], bins=range(10))\n",
    "plt.show()"
   ]
  },
  {
   "cell_type": "code",
   "execution_count": null,
   "metadata": {},
   "outputs": [],
   "source": []
  }
 ],
 "metadata": {
  "kernelspec": {
   "display_name": "Python 3",
   "language": "python",
   "name": "python3"
  },
  "language_info": {
   "codemirror_mode": {
    "name": "ipython",
    "version": 3
   },
   "file_extension": ".py",
   "mimetype": "text/x-python",
   "name": "python",
   "nbconvert_exporter": "python",
   "pygments_lexer": "ipython3",
   "version": "3.6.5"
  }
 },
 "nbformat": 4,
 "nbformat_minor": 2
}
